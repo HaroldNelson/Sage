{
 "cells": [
  {
   "cell_type": "markdown",
   "metadata": {
    "slideshow": {
     "slide_type": "slide"
    }
   },
   "source": [
    "## The Traditional Launching\n",
    "\n",
    "What do you always do when you start to work on a new language?"
   ]
  },
  {
   "cell_type": "markdown",
   "metadata": {
    "slideshow": {
     "slide_type": "slide"
    }
   },
   "source": [
    "## Answer\n",
    "\n",
    "Print \"Hello World\""
   ]
  },
  {
   "cell_type": "code",
   "execution_count": 3,
   "metadata": {
    "slideshow": {
     "slide_type": "subslide"
    }
   },
   "outputs": [
    {
     "name": "stdout",
     "output_type": "stream",
     "text": [
      "Hello World!\n"
     ]
    }
   ],
   "source": [
    "print(\"Hello World!\")"
   ]
  },
  {
   "cell_type": "markdown",
   "metadata": {
    "slideshow": {
     "slide_type": "slide"
    }
   },
   "source": [
    "## Learning Sage\n",
    "\n",
    "The free text written by Gregory Bard is one of the better starting points. See http://gregorybard.com/Sage.html.\n",
    "\n",
    "The remainder of this slide show is a set of exercises based on Chapter 1 of this book"
   ]
  },
  {
   "cell_type": "markdown",
   "metadata": {
    "slideshow": {
     "slide_type": "slide"
    }
   },
   "source": [
    "## Differences from Python\n",
    "\n",
    "Sage includes Python 3 to the extent that you can write a python program while using the Sage kernel. There are some differences in arithmetic. \n",
    "\n",
    "1. Exponention\n",
    "2. Integer Divisioon."
   ]
  },
  {
   "cell_type": "markdown",
   "metadata": {
    "slideshow": {
     "slide_type": "slide"
    }
   },
   "source": [
    "## Exponentiation\n",
    "\n",
    "Note that Sage differs from Python in that both of the typical exponential symbols are recognized.\n"
   ]
  },
  {
   "cell_type": "code",
   "execution_count": 4,
   "metadata": {
    "slideshow": {
     "slide_type": "subslide"
    }
   },
   "outputs": [
    {
     "name": "stdout",
     "output_type": "stream",
     "text": [
      "\n",
      "Exponentiation **\n",
      "25\n",
      "\n",
      "Exponentiation ^\n",
      "25\n"
     ]
    }
   ],
   "source": [
    "\n",
    "print(\"\")\n",
    "print(\"Exponentiation **\")\n",
    "print(5**2)\n",
    "\n",
    "\n",
    "print(\"\")\n",
    "print(\"Exponentiation ^\")\n",
    "print(5^2)"
   ]
  },
  {
   "cell_type": "markdown",
   "metadata": {
    "slideshow": {
     "slide_type": "slide"
    }
   },
   "source": [
    "## Division and an Issue\n",
    "Python and Sage differ in the use of division. In Python $4/6$ would produce a decimal figure. Note what happens in Sage."
   ]
  },
  {
   "cell_type": "code",
   "execution_count": 5,
   "metadata": {
    "slideshow": {
     "slide_type": "subslide"
    }
   },
   "outputs": [
    {
     "name": "stdout",
     "output_type": "stream",
     "text": [
      "2/3\n"
     ]
    }
   ],
   "source": [
    "print(4/6)\n"
   ]
  },
  {
   "cell_type": "markdown",
   "metadata": {
    "slideshow": {
     "slide_type": "slide"
    }
   },
   "source": [
    "## The Issue\n",
    "Sage does not produce a decimal result by default. The result $4/6$ is just the fraction reduced to its lowest terms.  Sage tries to give you an exact answer.  You can get a decimal result by making one of the operands a decimal number. "
   ]
  },
  {
   "cell_type": "code",
   "execution_count": 6,
   "metadata": {
    "slideshow": {
     "slide_type": "subslide"
    }
   },
   "outputs": [
    {
     "name": "stdout",
     "output_type": "stream",
     "text": [
      "0.666666666666667\n"
     ]
    }
   ],
   "source": [
    "print(4/6.)"
   ]
  },
  {
   "cell_type": "markdown",
   "metadata": {
    "slideshow": {
     "slide_type": "slide"
    }
   },
   "source": [
    "## Request a Decimal Result\n",
    "Sage has a function N() or n() to convert an integer expression to a decimal value. N() can only be used as a function. n() can be used as a function or a method() with the dot notation.\n",
    "\n",
    "You can supply an integer value to request a longer or shorter result. There are two possible integer arguments. The default is the number of bits used in the computations. To get a predictable answer use the alternative digits parameter. To get 10 digits after the decimal, use digits = 10.\n",
    "\n",
    "\n"
   ]
  },
  {
   "cell_type": "code",
   "execution_count": 7,
   "metadata": {
    "slideshow": {
     "slide_type": "subslide"
    }
   },
   "outputs": [
    {
     "name": "stdout",
     "output_type": "stream",
     "text": [
      "256/391\n",
      "0.654731457800512\n",
      "0.654731457800512\n",
      "0.654731457800512\n",
      "0.62\n",
      "0.65473145780051150895140664961636828644501278772\n",
      "0.6547314578\n"
     ]
    }
   ],
   "source": [
    "v = (11/23 + 3/17)\n",
    "print(v)\n",
    "print(v.n())\n",
    "print(n(v))\n",
    "print(N(v))\n",
    "\n",
    "print(v.n(3))\n",
    "print(v.n(160))\n",
    "print(v.n(digits = 10))\n",
    "\n"
   ]
  },
  {
   "cell_type": "markdown",
   "metadata": {
    "slideshow": {
     "slide_type": "slide"
    }
   },
   "source": [
    "## Integer Division and Modulus\n",
    "The operators  \"//\" and \"%\" work as in Python"
   ]
  },
  {
   "cell_type": "code",
   "execution_count": 8,
   "metadata": {
    "slideshow": {
     "slide_type": "subslide"
    }
   },
   "outputs": [
    {
     "name": "stdout",
     "output_type": "stream",
     "text": [
      "Integer Division\n",
      "5//2\n",
      "2\n",
      "\n",
      "Remainder\n",
      "1\n"
     ]
    }
   ],
   "source": [
    "print(\"Integer Division\")\n",
    "print(\"5//2\")\n",
    "print(5 // 2)\n",
    "\n",
    "\n",
    "print(\"\")\n",
    "print(\"Remainder\")\n",
    "print(5 % 2)"
   ]
  },
  {
   "cell_type": "markdown",
   "metadata": {
    "slideshow": {
     "slide_type": "slide"
    }
   },
   "source": [
    "## Precedence of Operators\n",
    "\n",
    "The normal rules of operator precedence are in effect.\n",
    "\n",
    "1. Parentheses\n",
    "2. exponentiation\n",
    "3. Multiplication / Division\n",
    "4. Addition / Subtraction\n",
    "5. Left to right for operators at the same level."
   ]
  },
  {
   "cell_type": "markdown",
   "metadata": {
    "slideshow": {
     "slide_type": "slide"
    }
   },
   "source": [
    "## Split a Long Line\n",
    "You can use \"\\\\\" to break up an expression that is hard to type."
   ]
  },
  {
   "cell_type": "code",
   "execution_count": 9,
   "metadata": {
    "slideshow": {
     "slide_type": "subslide"
    }
   },
   "outputs": [
    {
     "data": {
      "text/plain": [
       "1/1024"
      ]
     },
     "execution_count": 9,
     "metadata": {},
     "output_type": "execute_result"
    }
   ],
   "source": [
    "(((2-4)*(4-3)+  \\\n",
    "  4)^10)/(2^20)"
   ]
  },
  {
   "cell_type": "markdown",
   "metadata": {
    "slideshow": {
     "slide_type": "slide"
    }
   },
   "source": [
    "## Exercise\n",
    "Use Sage to compute the following:\n",
    "    \n",
    "$$ \\frac{256}{23} + \\frac{123}{29} + \\frac{453}{31} - \\frac{154}{59}$$"
   ]
  },
  {
   "cell_type": "markdown",
   "metadata": {
    "slideshow": {
     "slide_type": "slide"
    }
   },
   "source": [
    "## Answer "
   ]
  },
  {
   "cell_type": "code",
   "execution_count": 10,
   "metadata": {
    "slideshow": {
     "slide_type": "subslide"
    }
   },
   "outputs": [
    {
     "data": {
      "text/plain": [
       "33395388/1219943"
      ]
     },
     "execution_count": 10,
     "metadata": {},
     "output_type": "execute_result"
    }
   ],
   "source": [
    "256/23 + 123/29 + 453/31 - 154/59"
   ]
  },
  {
   "cell_type": "markdown",
   "metadata": {
    "slideshow": {
     "slide_type": "slide"
    }
   },
   "source": [
    "## Exercise\n",
    "\n",
    "Get an exact decimal asnwer for the preceding problem with 25 digits."
   ]
  },
  {
   "cell_type": "markdown",
   "metadata": {
    "slideshow": {
     "slide_type": "slide"
    }
   },
   "source": [
    "## Answer"
   ]
  },
  {
   "cell_type": "code",
   "execution_count": 11,
   "metadata": {
    "slideshow": {
     "slide_type": "subslide"
    }
   },
   "outputs": [
    {
     "data": {
      "text/plain": [
       "27.37454782723455112247048"
      ]
     },
     "execution_count": 11,
     "metadata": {},
     "output_type": "execute_result"
    }
   ],
   "source": [
    "N(256/23 + 123/29 + 453/31 - 154/59, digits = 25)"
   ]
  },
  {
   "cell_type": "markdown",
   "metadata": {
    "slideshow": {
     "slide_type": "slide"
    }
   },
   "source": [
    "## Solving Equations\n",
    "\n",
    "Sage can solve equations using the solve() function."
   ]
  },
  {
   "cell_type": "markdown",
   "metadata": {
    "slideshow": {
     "slide_type": "slide"
    }
   },
   "source": [
    "## Exercise\n",
    "\n",
    "Use solve() to solve the following equation. Save the result as an object, solutions. Print the object.\n",
    "\n",
    "$$ x^2 - 2 = 0$$"
   ]
  },
  {
   "cell_type": "markdown",
   "metadata": {
    "slideshow": {
     "slide_type": "slide"
    }
   },
   "source": [
    "## Answer"
   ]
  },
  {
   "cell_type": "code",
   "execution_count": 12,
   "metadata": {
    "slideshow": {
     "slide_type": "subslide"
    }
   },
   "outputs": [
    {
     "name": "stdout",
     "output_type": "stream",
     "text": [
      "[\n",
      "x == -sqrt(2),\n",
      "x == sqrt(2)\n",
      "]\n"
     ]
    }
   ],
   "source": [
    "solutions = solve(x^2 - 2 == 0, x)\n",
    "print(solutions)\n"
   ]
  },
  {
   "cell_type": "markdown",
   "metadata": {
    "slideshow": {
     "slide_type": "slide"
    }
   },
   "source": [
    "## Exercise\n",
    "\n",
    "This looks like a list. Try to extract its first item."
   ]
  },
  {
   "cell_type": "markdown",
   "metadata": {
    "slideshow": {
     "slide_type": "slide"
    }
   },
   "source": [
    "## Answer"
   ]
  },
  {
   "cell_type": "code",
   "execution_count": 13,
   "metadata": {
    "slideshow": {
     "slide_type": "subslide"
    }
   },
   "outputs": [
    {
     "name": "stdout",
     "output_type": "stream",
     "text": [
      "x == -sqrt(2)\n"
     ]
    }
   ],
   "source": [
    "print(solutions[0])\n"
   ]
  },
  {
   "cell_type": "markdown",
   "metadata": {
    "slideshow": {
     "slide_type": "slide"
    }
   },
   "source": [
    "## Exercise\n",
    "\n",
    "This type of object has a method rhs(). Use the method and assign the result to a variable, solution_0."
   ]
  },
  {
   "cell_type": "markdown",
   "metadata": {
    "slideshow": {
     "slide_type": "slide"
    }
   },
   "source": [
    "## Answer"
   ]
  },
  {
   "cell_type": "code",
   "execution_count": 14,
   "metadata": {
    "slideshow": {
     "slide_type": "subslide"
    }
   },
   "outputs": [
    {
     "name": "stdout",
     "output_type": "stream",
     "text": [
      "-sqrt(2)\n"
     ]
    }
   ],
   "source": [
    "solution_0 = solutions[0].rhs()\n",
    "print(solution_0)\n"
   ]
  },
  {
   "cell_type": "markdown",
   "metadata": {},
   "source": [
    "## Exercise\n",
    "\n",
    "Use the method n() to get a numerical value.\n"
   ]
  },
  {
   "cell_type": "markdown",
   "metadata": {
    "slideshow": {
     "slide_type": "slide"
    }
   },
   "source": [
    "## Answer"
   ]
  },
  {
   "cell_type": "code",
   "execution_count": 15,
   "metadata": {
    "slideshow": {
     "slide_type": "slide"
    }
   },
   "outputs": [
    {
     "name": "stdout",
     "output_type": "stream",
     "text": [
      "-1.41421356237310\n"
     ]
    }
   ],
   "source": [
    "nval0 = solution_0.n()\n",
    "print(nval0)"
   ]
  },
  {
   "cell_type": "markdown",
   "metadata": {},
   "source": [
    "## Exercise\n",
    "\n",
    "Use a python for loop to systematically put the numerical values of all of the solutions in a list."
   ]
  },
  {
   "cell_type": "markdown",
   "metadata": {
    "slideshow": {
     "slide_type": "slide"
    }
   },
   "source": [
    "## Answer "
   ]
  },
  {
   "cell_type": "code",
   "execution_count": 16,
   "metadata": {
    "slideshow": {
     "slide_type": "subslide"
    }
   },
   "outputs": [
    {
     "name": "stdout",
     "output_type": "stream",
     "text": [
      "[-1.41421356237310, 1.41421356237310]\n"
     ]
    }
   ],
   "source": [
    "solutions_list = []\n",
    "\n",
    "for sol in solutions:\n",
    "    solutions_list.append(sol.rhs().n())\n",
    "    \n",
    "print(solutions_list)  "
   ]
  },
  {
   "cell_type": "code",
   "execution_count": 18,
   "metadata": {},
   "outputs": [
    {
     "name": "stderr",
     "output_type": "stream",
     "text": [
      "[NbConvertApp] Converting notebook Computations.ipynb to slides\n",
      "[NbConvertApp] Writing 303666 bytes to Computations.slides.html\n"
     ]
    }
   ],
   "source": [
    "%%bash \n",
    "jupyter nbconvert Computations.ipynb --to slides"
   ]
  },
  {
   "cell_type": "code",
   "execution_count": null,
   "metadata": {},
   "outputs": [],
   "source": []
  }
 ],
 "metadata": {
  "celltoolbar": "Slideshow",
  "kernelspec": {
   "display_name": "SageMath 9.4",
   "language": "sage",
   "name": "sagemath-9.4"
  },
  "language_info": {
   "codemirror_mode": {
    "name": "ipython",
    "version": 3
   },
   "file_extension": ".py",
   "mimetype": "text/x-python",
   "name": "python",
   "nbconvert_exporter": "python",
   "pygments_lexer": "ipython3",
   "version": "3.9.5"
  }
 },
 "nbformat": 4,
 "nbformat_minor": 4
}
