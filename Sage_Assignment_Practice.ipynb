{
 "cells": [
  {
   "cell_type": "markdown",
   "id": "9a83c8c8-12ec-4101-8ce7-29920b1ed56e",
   "metadata": {
    "slideshow": {
     "slide_type": "slide"
    }
   },
   "source": [
    "## Problem 1\n",
    "\n",
    "Get a numerical value of the following expression with 10 digits.\n",
    "\n",
    "$$\\frac{25}{33} + \\frac{1453}{88} + \\frac{75}{11}$$"
   ]
  },
  {
   "cell_type": "code",
   "execution_count": 1,
   "id": "2c7a6493-062c-4b16-833e-004c17de597a",
   "metadata": {
    "slideshow": {
     "slide_type": "subslide"
    }
   },
   "outputs": [
    {
     "data": {
      "text/plain": [
       "23.63075027382256297918949"
      ]
     },
     "execution_count": 1,
     "metadata": {},
     "output_type": "execute_result"
    }
   ],
   "source": [
    "N(25/83 + 1453/88 + 75/11,digits = 25)"
   ]
  },
  {
   "cell_type": "markdown",
   "id": "f370e7c5-974f-40a1-a3c2-4d97d4771c19",
   "metadata": {
    "slideshow": {
     "slide_type": "slide"
    }
   },
   "source": [
    "## Problem 2\n",
    "\n",
    "Use solve() to solve the following equation. Save the result as an object named \"solutions\". Print the object.\n",
    "$$x^2=77$$"
   ]
  },
  {
   "cell_type": "code",
   "execution_count": 2,
   "id": "3e486cab-b156-492b-8af3-4e3d0472a608",
   "metadata": {
    "slideshow": {
     "slide_type": "subslide"
    }
   },
   "outputs": [
    {
     "name": "stdout",
     "output_type": "stream",
     "text": [
      "[\n",
      "x == -sqrt(77),\n",
      "x == sqrt(77)\n",
      "]\n"
     ]
    }
   ],
   "source": [
    "solutions = solve(x^2 == 77,x)\n",
    "print(solutions)"
   ]
  },
  {
   "cell_type": "markdown",
   "id": "dabb0eaf-18e0-408e-a149-563cc5b594b7",
   "metadata": {
    "slideshow": {
     "slide_type": "slide"
    }
   },
   "source": [
    "## Problem 3\n",
    "Assign the value given by the first member of solutions to the variable \"first\" and print it."
   ]
  },
  {
   "cell_type": "code",
   "execution_count": 3,
   "id": "3401e065-c092-48c6-828b-702f045828d3",
   "metadata": {
    "slideshow": {
     "slide_type": "subslide"
    }
   },
   "outputs": [
    {
     "name": "stdout",
     "output_type": "stream",
     "text": [
      "x == -sqrt(77)\n"
     ]
    }
   ],
   "source": [
    "first = solutions[0]\n",
    "print(first)"
   ]
  },
  {
   "cell_type": "markdown",
   "id": "156dd154-6dd9-4b82-867b-b6ab27ece7bb",
   "metadata": {
    "slideshow": {
     "slide_type": "slide"
    }
   },
   "source": [
    "## Problem 4\n",
    "Show the value of first with 25 digits."
   ]
  },
  {
   "cell_type": "code",
   "execution_count": 5,
   "id": "a0f271e8-8262-4545-8b54-2c92fe9ceb2a",
   "metadata": {
    "slideshow": {
     "slide_type": "subslide"
    }
   },
   "outputs": [
    {
     "data": {
      "text/plain": [
       "-8.774964387392122060406388"
      ]
     },
     "execution_count": 5,
     "metadata": {},
     "output_type": "execute_result"
    }
   ],
   "source": [
    "N(first.rhs(),digits = 25)"
   ]
  },
  {
   "cell_type": "markdown",
   "id": "96cf12fe-f8da-45a8-bed7-5d7e23811bac",
   "metadata": {
    "slideshow": {
     "slide_type": "slide"
    }
   },
   "source": [
    "## Problem 5\n",
    "\n",
    "Solve the following equation for the variable a in terms of the other variables.\n",
    "$$ \\frac{a - b}{c - d} = 3c$$\n"
   ]
  },
  {
   "cell_type": "code",
   "execution_count": 7,
   "id": "4f083c41-ec6c-499f-9835-1fb9757f3d52",
   "metadata": {
    "slideshow": {
     "slide_type": "subslide"
    }
   },
   "outputs": [
    {
     "data": {
      "text/plain": [
       "[a == 3*c^2 - 3*c*d + b]"
      ]
     },
     "execution_count": 7,
     "metadata": {},
     "output_type": "execute_result"
    }
   ],
   "source": [
    "var('a b c d')\n",
    "solve((a-b)/(c-d)==3*c,a)"
   ]
  },
  {
   "cell_type": "markdown",
   "id": "20cd00d2-d22c-4d28-83ae-8781b941c006",
   "metadata": {
    "slideshow": {
     "slide_type": "slide"
    }
   },
   "source": [
    "## Problem 6\n",
    "\n",
    "At what value of x do the lines defined by $y=5x+2$ and $y = 2x+6$ intersect?"
   ]
  },
  {
   "cell_type": "code",
   "execution_count": 8,
   "id": "d1e91794-49f9-4611-a39f-75408645a5b5",
   "metadata": {
    "slideshow": {
     "slide_type": "subslide"
    }
   },
   "outputs": [
    {
     "data": {
      "text/plain": [
       "[x == (4/3)]"
      ]
     },
     "execution_count": 8,
     "metadata": {},
     "output_type": "execute_result"
    }
   ],
   "source": [
    "solve(5*x+2 == 2*x+6,x)"
   ]
  },
  {
   "cell_type": "markdown",
   "id": "15a5614d-ca63-4783-8280-978975340bcd",
   "metadata": {
    "slideshow": {
     "slide_type": "slide"
    }
   },
   "source": [
    "## Problem 7\n",
    "\n",
    "Create a readable plot of \n",
    "\n",
    "$$f(x)=\\frac{x^3}{(x-3)^3}$$\n",
    "\n",
    "Set the range of x from - 4 to 4. Experiment with different values of ymin and ymax to get something you like"
   ]
  },
  {
   "cell_type": "code",
   "execution_count": 16,
   "id": "d18a6aa0-e401-42d4-b0cf-490a1742cdac",
   "metadata": {
    "slideshow": {
     "slide_type": "subslide"
    }
   },
   "outputs": [
    {
     "data": {
      "image/png": "[encoded data removed]",
      "text/plain": [
       "Graphics object consisting of 1 graphics primitive"
      ]
     },
     "execution_count": 16,
     "metadata": {},
     "output_type": "execute_result"
    }
   ],
   "source": [
    "plot(x^3/(x-3)*3,xmin = -4, xmax = 4, ymin = -20,ymax = 500)"
   ]
  },
  {
   "cell_type": "code",
   "execution_count": 1,
   "id": "099f8cdc-7912-4c89-9b66-15a4e6cd4b2a",
   "metadata": {
    "slideshow": {
     "slide_type": "skip"
    }
   },
   "outputs": [
    {
     "name": "stderr",
     "output_type": "stream",
     "text": [
      "[NbConvertApp] Converting notebook Sage_Assignment_Practice.ipynb to slides\n",
      "[NbConvertApp] Writing 303656 bytes to Sage_Assignment_Practice.slides.html\n"
     ]
    }
   ],
   "source": [
    "%%bash\n",
    "jupyter nbconvert Sage_Assignment_Practice.ipynb --to slides"
   ]
  },
  {
   "cell_type": "code",
   "execution_count": null,
   "id": "cc15d343-c710-47b3-bddf-bb5e0c1b7efd",
   "metadata": {},
   "outputs": [],
   "source": []
  }
 ],
 "metadata": {
  "celltoolbar": "Slideshow",
  "kernelspec": {
   "display_name": "SageMath 9.4",
   "language": "sage",
   "name": "sagemath-9.4"
  },
  "language_info": {
   "codemirror_mode": {
    "name": "ipython",
    "version": 3
   },
   "file_extension": ".py",
   "mimetype": "text/x-python",
   "name": "python",
   "nbconvert_exporter": "python",
   "pygments_lexer": "ipython3",
   "version": "3.9.5"
  }
 },
 "nbformat": 4,
 "nbformat_minor": 5
}
